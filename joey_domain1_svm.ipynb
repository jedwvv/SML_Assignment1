{
  "cells": [
    {
      "cell_type": "code",
      "execution_count": 1,
      "metadata": {
        "id": "Wa-DL8QfR-pp"
      },
      "outputs": [],
      "source": [
        "# Imports\n",
        "\n",
        "import pandas as pd\n",
        "import json\n",
        "import sklearn\n",
        "import numpy as np\n",
        "\n",
        "from sklearn.feature_extraction.text import TfidfVectorizer\n",
        "from sklearn.model_selection import KFold, GridSearchCV, StratifiedShuffleSplit\n",
        "from sklearn import datasets\n",
        "from sklearn.svm import SVC\n",
        "from sklearn.metrics import accuracy_score, precision_score, recall_score, f1_score\n",
        "from sklearn.naive_bayes import GaussianNB, MultinomialNB\n",
        "from sklearn.metrics import accuracy_score\n",
        "from sklearn.model_selection import train_test_split\n",
        "from sklearn.preprocessing import StandardScaler, MinMaxScaler\n",
        "from sklearn.decomposition import PCA\n",
        "from sklearn.decomposition import IncrementalPCA, PCA, SparsePCA\n",
        "from sklearn.feature_selection import mutual_info_classif, f_classif, SelectKBest, chi2, SelectPercentile\n",
        "from sklearn.model_selection import KFold\n",
        "from sklearn.preprocessing import PolynomialFeatures, PowerTransformer\n",
        "\n"
      ]
    },
    {
      "cell_type": "code",
      "execution_count": 2,
      "metadata": {
        "id": "ifBkexOTq4dY"
      },
      "outputs": [],
      "source": [
        "# Datafile from Jedwin's feature extraction\n",
        "from scipy import sparse\n",
        "temp_sparse_ = sparse.load_npz( \"/content/domain1_X_y_csr.npz\" )\n",
        "temp_loaded = temp_sparse_.toarray()\n",
        "n_samples, n_features = temp_loaded.shape\n",
        "n_features -= 1 #Since the last column is actually the label\n",
        "\n",
        "X = temp_loaded[:,:n_features]\n",
        "y = temp_loaded[:,n_features]\n",
        "del temp_loaded, temp_sparse_"
      ]
    },
    {
      "cell_type": "code",
      "execution_count": 3,
      "metadata": {
        "colab": {
          "base_uri": "https://localhost:8080/"
        },
        "id": "BoAOKNZprdcJ",
        "outputId": "bb6b9f81-f064-42d4-b5e7-0acd15d44eba"
      },
      "outputs": [
        {
          "output_type": "stream",
          "name": "stderr",
          "text": [
            "/usr/local/lib/python3.10/dist-packages/sklearn/feature_selection/_univariate_selection.py:112: UserWarning: Features [   0    1    2    3    4    5    6    7    8    9   10   11   12   13\n",
            "   14   15   16   17   18   19   20   22  131  166  211  212  213  214\n",
            "  242  248  252  254  261  262  263  285  298  318  344  383  387  437\n",
            "  450  460  463  469  482  483  500  518  538  539  540  541  542  544\n",
            "  552  555  556  557  562  589  605  606  619  626  634  647  650  656\n",
            "  661  667  668  682  725  726  729  734  790  843  844  860  880  887\n",
            "  912  918  934  947  962  985  986  987  991 1003 1027 1050 1071 1108\n",
            " 1109 1135 1136 1139 1140 1148 1149 1173 1174 1175 1187 1194 1199 1216\n",
            " 1243 1300 1457 1559 1592 1635 1644 1688 1729 1749 1750 1803 1831 1847\n",
            " 1848 1894 1897 1953 1959 1964 1973 2001 2031 2038 2042 2043 2063 2070\n",
            " 2082 2244 2262 2267 2316 2375 2376 2427 2430 2451 2471 2478 2512 2524\n",
            " 2539 2565 2718 2748 2761 2771 2817 2818 2828 2833 2847 2972 2985 3065\n",
            " 3131 3132 3139 3189 3190 3296 3303 3307 3308 3322 3466 3507 3569 3570\n",
            " 3571 3572 3603 3607 3658 3661 3662 3663 3664 3665 3671 3709 3775 3800\n",
            " 3877 3888 3899 3904 3962 4046 4066 4090 4097 4265 4266 4335 4354 4441\n",
            " 4445 4453 4455 4495 4496 4503 4505 4609 4631 4642 4643 4657 4667 4668\n",
            " 4669 4737 4754 4761 4775 4794 4796 4801 4804 4836 4871 4903 4912 5018\n",
            " 5025 5034 5049 5063 5117 5118 5119 5120 5121 5122 5123 5139 5201 5251\n",
            " 5255 5256 5257 5258 5263 5289 5301 5302 5303 5304 5323 5325 5350 5382\n",
            " 5395 5447 5448 5450 5452 5455 5532 5553 5584 5598 5599 5606 5609 5611\n",
            " 5614 5627 5629 5631 5662 5664 5671 5683 5717 5740 5752 5764 5771 5797\n",
            " 5830 5833 5856 5858 5867 5878 5881 5883 5886 5887 5893 5897 5961 5981\n",
            " 5988 6009 6012 6029 6110 6133 6137 6143 6161 6162 6163 6165] are constant.\n",
            "  warnings.warn(\"Features %s are constant.\" % constant_features_idx, UserWarning)\n",
            "/usr/local/lib/python3.10/dist-packages/sklearn/feature_selection/_univariate_selection.py:113: RuntimeWarning: invalid value encountered in divide\n",
            "  f = msb / msw\n"
          ]
        }
      ],
      "source": [
        "selector_percentile = SelectPercentile( f_classif, percentile = 80 )\n",
        "X_new = selector_percentile.fit_transform(X, y)"
      ]
    },
    {
      "cell_type": "code",
      "execution_count": 4,
      "metadata": {
        "colab": {
          "base_uri": "https://localhost:8080/"
        },
        "id": "zdqFsZtlrkEr",
        "outputId": "5b0a11b3-6960-437b-8c82-98db9c4abd2a"
      },
      "outputs": [
        {
          "output_type": "stream",
          "name": "stdout",
          "text": [
            "Fitting 5 folds for each of 24 candidates, totalling 120 fits\n",
            "[CV 1/5] END ..C=10.0, gamma=0.1, kernel=linear;, score=0.772 total time= 1.7min\n",
            "[CV 2/5] END ..C=10.0, gamma=0.1, kernel=linear;, score=0.770 total time=  58.2s\n",
            "[CV 3/5] END ..C=10.0, gamma=0.1, kernel=linear;, score=0.744 total time=  58.3s\n",
            "[CV 4/5] END ..C=10.0, gamma=0.1, kernel=linear;, score=0.761 total time= 1.4min\n",
            "[CV 5/5] END ..C=10.0, gamma=0.1, kernel=linear;, score=0.755 total time=  56.9s\n",
            "[CV 1/5] END .....C=10.0, gamma=0.1, kernel=rbf;, score=0.788 total time= 1.3min\n",
            "[CV 2/5] END .....C=10.0, gamma=0.1, kernel=rbf;, score=0.779 total time= 1.3min\n",
            "[CV 3/5] END .....C=10.0, gamma=0.1, kernel=rbf;, score=0.776 total time= 1.2min\n",
            "[CV 4/5] END .....C=10.0, gamma=0.1, kernel=rbf;, score=0.787 total time= 1.3min\n",
            "[CV 5/5] END .....C=10.0, gamma=0.1, kernel=rbf;, score=0.775 total time= 1.2min\n",
            "[CV 1/5] END ..C=10.0, gamma=1.0, kernel=linear;, score=0.772 total time= 1.7min\n",
            "[CV 2/5] END ..C=10.0, gamma=1.0, kernel=linear;, score=0.770 total time=  56.0s\n",
            "[CV 3/5] END ..C=10.0, gamma=1.0, kernel=linear;, score=0.744 total time=  54.8s\n",
            "[CV 4/5] END ..C=10.0, gamma=1.0, kernel=linear;, score=0.761 total time= 1.4min\n",
            "[CV 5/5] END ..C=10.0, gamma=1.0, kernel=linear;, score=0.755 total time=  57.1s\n",
            "[CV 1/5] END .....C=10.0, gamma=1.0, kernel=rbf;, score=0.825 total time= 1.7min\n",
            "[CV 2/5] END .....C=10.0, gamma=1.0, kernel=rbf;, score=0.824 total time= 1.7min\n",
            "[CV 3/5] END .....C=10.0, gamma=1.0, kernel=rbf;, score=0.814 total time= 1.6min\n",
            "[CV 4/5] END .....C=10.0, gamma=1.0, kernel=rbf;, score=0.824 total time= 1.7min\n",
            "[CV 5/5] END .....C=10.0, gamma=1.0, kernel=rbf;, score=0.814 total time= 1.7min\n",
            "[CV 1/5] END .C=10.0, gamma=10.0, kernel=linear;, score=0.772 total time= 1.4min\n",
            "[CV 2/5] END .C=10.0, gamma=10.0, kernel=linear;, score=0.770 total time=  44.9s\n",
            "[CV 3/5] END .C=10.0, gamma=10.0, kernel=linear;, score=0.744 total time=  45.3s\n",
            "[CV 4/5] END .C=10.0, gamma=10.0, kernel=linear;, score=0.761 total time= 1.1min\n",
            "[CV 5/5] END .C=10.0, gamma=10.0, kernel=linear;, score=0.755 total time=  45.3s\n",
            "[CV 1/5] END ....C=10.0, gamma=10.0, kernel=rbf;, score=0.563 total time= 1.4min\n",
            "[CV 2/5] END ....C=10.0, gamma=10.0, kernel=rbf;, score=0.582 total time= 1.4min\n",
            "[CV 3/5] END ....C=10.0, gamma=10.0, kernel=rbf;, score=0.567 total time= 1.4min\n",
            "[CV 4/5] END ....C=10.0, gamma=10.0, kernel=rbf;, score=0.576 total time= 1.4min\n",
            "[CV 5/5] END ....C=10.0, gamma=10.0, kernel=rbf;, score=0.579 total time= 1.4min\n",
            "[CV 1/5] END C=10.0, gamma=100.0, kernel=linear;, score=0.772 total time= 1.3min\n",
            "[CV 2/5] END C=10.0, gamma=100.0, kernel=linear;, score=0.770 total time=  47.9s\n",
            "[CV 3/5] END C=10.0, gamma=100.0, kernel=linear;, score=0.744 total time=  46.2s\n",
            "[CV 4/5] END C=10.0, gamma=100.0, kernel=linear;, score=0.761 total time= 1.2min\n",
            "[CV 5/5] END C=10.0, gamma=100.0, kernel=linear;, score=0.755 total time=  48.3s\n",
            "[CV 1/5] END ...C=10.0, gamma=100.0, kernel=rbf;, score=0.501 total time= 1.5min\n",
            "[CV 2/5] END ...C=10.0, gamma=100.0, kernel=rbf;, score=0.505 total time= 1.4min\n",
            "[CV 3/5] END ...C=10.0, gamma=100.0, kernel=rbf;, score=0.501 total time= 1.5min\n",
            "[CV 4/5] END ...C=10.0, gamma=100.0, kernel=rbf;, score=0.502 total time= 1.4min\n",
            "[CV 5/5] END ...C=10.0, gamma=100.0, kernel=rbf;, score=0.503 total time= 1.5min\n",
            "[CV 1/5] END .C=100.0, gamma=0.1, kernel=linear;, score=0.748 total time= 1.2min\n",
            "[CV 2/5] END .C=100.0, gamma=0.1, kernel=linear;, score=0.759 total time=  58.2s\n",
            "[CV 3/5] END .C=100.0, gamma=0.1, kernel=linear;, score=0.738 total time= 1.2min\n",
            "[CV 4/5] END .C=100.0, gamma=0.1, kernel=linear;, score=0.741 total time= 1.2min\n",
            "[CV 5/5] END .C=100.0, gamma=0.1, kernel=linear;, score=0.750 total time= 1.2min\n",
            "[CV 1/5] END ....C=100.0, gamma=0.1, kernel=rbf;, score=0.783 total time= 1.3min\n",
            "[CV 2/5] END ....C=100.0, gamma=0.1, kernel=rbf;, score=0.773 total time= 1.2min\n",
            "[CV 3/5] END ....C=100.0, gamma=0.1, kernel=rbf;, score=0.761 total time= 1.1min\n",
            "[CV 4/5] END ....C=100.0, gamma=0.1, kernel=rbf;, score=0.774 total time= 1.2min\n",
            "[CV 5/5] END ....C=100.0, gamma=0.1, kernel=rbf;, score=0.771 total time= 1.1min\n",
            "[CV 1/5] END .C=100.0, gamma=1.0, kernel=linear;, score=0.748 total time= 1.2min\n",
            "[CV 2/5] END .C=100.0, gamma=1.0, kernel=linear;, score=0.759 total time=  58.0s\n",
            "[CV 3/5] END .C=100.0, gamma=1.0, kernel=linear;, score=0.738 total time= 1.2min\n",
            "[CV 4/5] END .C=100.0, gamma=1.0, kernel=linear;, score=0.741 total time= 1.3min\n",
            "[CV 5/5] END .C=100.0, gamma=1.0, kernel=linear;, score=0.750 total time= 1.4min\n",
            "[CV 1/5] END ....C=100.0, gamma=1.0, kernel=rbf;, score=0.821 total time= 1.6min\n",
            "[CV 2/5] END ....C=100.0, gamma=1.0, kernel=rbf;, score=0.825 total time= 1.7min\n",
            "[CV 3/5] END ....C=100.0, gamma=1.0, kernel=rbf;, score=0.816 total time= 1.6min\n",
            "[CV 4/5] END ....C=100.0, gamma=1.0, kernel=rbf;, score=0.827 total time= 1.6min\n",
            "[CV 5/5] END ....C=100.0, gamma=1.0, kernel=rbf;, score=0.813 total time= 1.6min\n",
            "[CV 1/5] END C=100.0, gamma=10.0, kernel=linear;, score=0.748 total time= 1.4min\n",
            "[CV 2/5] END C=100.0, gamma=10.0, kernel=linear;, score=0.759 total time= 1.2min\n",
            "[CV 3/5] END C=100.0, gamma=10.0, kernel=linear;, score=0.738 total time= 1.4min\n",
            "[CV 4/5] END C=100.0, gamma=10.0, kernel=linear;, score=0.741 total time= 1.4min\n",
            "[CV 5/5] END C=100.0, gamma=10.0, kernel=linear;, score=0.750 total time= 1.4min\n",
            "[CV 1/5] END ...C=100.0, gamma=10.0, kernel=rbf;, score=0.563 total time= 1.7min\n",
            "[CV 2/5] END ...C=100.0, gamma=10.0, kernel=rbf;, score=0.582 total time= 1.7min\n",
            "[CV 3/5] END ...C=100.0, gamma=10.0, kernel=rbf;, score=0.567 total time= 1.7min\n",
            "[CV 4/5] END ...C=100.0, gamma=10.0, kernel=rbf;, score=0.576 total time= 1.6min\n",
            "[CV 5/5] END ...C=100.0, gamma=10.0, kernel=rbf;, score=0.579 total time= 1.6min\n",
            "[CV 1/5] END C=100.0, gamma=100.0, kernel=linear;, score=0.748 total time= 1.4min\n",
            "[CV 2/5] END C=100.0, gamma=100.0, kernel=linear;, score=0.759 total time= 1.1min\n",
            "[CV 3/5] END C=100.0, gamma=100.0, kernel=linear;, score=0.738 total time= 1.4min\n",
            "[CV 4/5] END C=100.0, gamma=100.0, kernel=linear;, score=0.741 total time= 1.4min\n",
            "[CV 5/5] END C=100.0, gamma=100.0, kernel=linear;, score=0.750 total time= 1.4min\n",
            "[CV 1/5] END ..C=100.0, gamma=100.0, kernel=rbf;, score=0.501 total time= 1.6min\n",
            "[CV 2/5] END ..C=100.0, gamma=100.0, kernel=rbf;, score=0.505 total time= 1.6min\n",
            "[CV 3/5] END ..C=100.0, gamma=100.0, kernel=rbf;, score=0.501 total time= 1.6min\n",
            "[CV 4/5] END ..C=100.0, gamma=100.0, kernel=rbf;, score=0.502 total time= 1.7min\n",
            "[CV 5/5] END ..C=100.0, gamma=100.0, kernel=rbf;, score=0.503 total time= 1.6min\n",
            "[CV 1/5] END C=1000.0, gamma=0.1, kernel=linear;, score=0.757 total time= 1.4min\n",
            "[CV 2/5] END C=1000.0, gamma=0.1, kernel=linear;, score=0.757 total time= 1.1min\n",
            "[CV 3/5] END C=1000.0, gamma=0.1, kernel=linear;, score=0.742 total time= 1.6min\n",
            "[CV 4/5] END C=1000.0, gamma=0.1, kernel=linear;, score=0.745 total time= 1.2min\n",
            "[CV 5/5] END C=1000.0, gamma=0.1, kernel=linear;, score=0.750 total time= 1.4min\n",
            "[CV 1/5] END ...C=1000.0, gamma=0.1, kernel=rbf;, score=0.780 total time= 1.3min\n",
            "[CV 2/5] END ...C=1000.0, gamma=0.1, kernel=rbf;, score=0.777 total time= 1.3min\n",
            "[CV 3/5] END ...C=1000.0, gamma=0.1, kernel=rbf;, score=0.756 total time= 1.3min\n",
            "[CV 4/5] END ...C=1000.0, gamma=0.1, kernel=rbf;, score=0.773 total time= 1.3min\n",
            "[CV 5/5] END ...C=1000.0, gamma=0.1, kernel=rbf;, score=0.771 total time= 1.3min\n",
            "[CV 1/5] END C=1000.0, gamma=1.0, kernel=linear;, score=0.757 total time= 1.4min\n",
            "[CV 2/5] END C=1000.0, gamma=1.0, kernel=linear;, score=0.757 total time= 1.1min\n",
            "[CV 3/5] END C=1000.0, gamma=1.0, kernel=linear;, score=0.742 total time= 1.6min\n",
            "[CV 4/5] END C=1000.0, gamma=1.0, kernel=linear;, score=0.745 total time= 1.1min\n",
            "[CV 5/5] END C=1000.0, gamma=1.0, kernel=linear;, score=0.750 total time= 1.3min\n",
            "[CV 1/5] END ...C=1000.0, gamma=1.0, kernel=rbf;, score=0.821 total time= 1.6min\n",
            "[CV 2/5] END ...C=1000.0, gamma=1.0, kernel=rbf;, score=0.825 total time= 1.6min\n",
            "[CV 3/5] END ...C=1000.0, gamma=1.0, kernel=rbf;, score=0.816 total time= 1.6min\n",
            "[CV 4/5] END ...C=1000.0, gamma=1.0, kernel=rbf;, score=0.827 total time= 1.6min\n",
            "[CV 5/5] END ...C=1000.0, gamma=1.0, kernel=rbf;, score=0.813 total time= 1.6min\n",
            "[CV 1/5] END C=1000.0, gamma=10.0, kernel=linear;, score=0.757 total time= 1.5min\n",
            "[CV 2/5] END C=1000.0, gamma=10.0, kernel=linear;, score=0.757 total time= 1.1min\n",
            "[CV 3/5] END C=1000.0, gamma=10.0, kernel=linear;, score=0.742 total time= 1.6min\n",
            "[CV 4/5] END C=1000.0, gamma=10.0, kernel=linear;, score=0.745 total time= 1.1min\n",
            "[CV 5/5] END C=1000.0, gamma=10.0, kernel=linear;, score=0.750 total time= 1.4min\n",
            "[CV 1/5] END ..C=1000.0, gamma=10.0, kernel=rbf;, score=0.563 total time= 1.6min\n",
            "[CV 2/5] END ..C=1000.0, gamma=10.0, kernel=rbf;, score=0.582 total time= 1.6min\n",
            "[CV 3/5] END ..C=1000.0, gamma=10.0, kernel=rbf;, score=0.567 total time= 1.7min\n",
            "[CV 4/5] END ..C=1000.0, gamma=10.0, kernel=rbf;, score=0.576 total time= 1.7min\n",
            "[CV 5/5] END ..C=1000.0, gamma=10.0, kernel=rbf;, score=0.579 total time= 1.7min\n",
            "[CV 1/5] END C=1000.0, gamma=100.0, kernel=linear;, score=0.757 total time= 1.3min\n",
            "[CV 2/5] END C=1000.0, gamma=100.0, kernel=linear;, score=0.757 total time= 1.2min\n",
            "[CV 3/5] END C=1000.0, gamma=100.0, kernel=linear;, score=0.742 total time= 1.7min\n",
            "[CV 4/5] END C=1000.0, gamma=100.0, kernel=linear;, score=0.745 total time= 1.1min\n",
            "[CV 5/5] END C=1000.0, gamma=100.0, kernel=linear;, score=0.750 total time= 1.6min\n",
            "[CV 1/5] END .C=1000.0, gamma=100.0, kernel=rbf;, score=0.501 total time= 1.7min\n",
            "[CV 2/5] END .C=1000.0, gamma=100.0, kernel=rbf;, score=0.505 total time= 1.7min\n",
            "[CV 3/5] END .C=1000.0, gamma=100.0, kernel=rbf;, score=0.501 total time= 1.8min\n",
            "[CV 4/5] END .C=1000.0, gamma=100.0, kernel=rbf;, score=0.502 total time= 1.7min\n",
            "[CV 5/5] END .C=1000.0, gamma=100.0, kernel=rbf;, score=0.503 total time= 1.7min\n",
            "The best parameters are {'C': 100.0, 'gamma': 1.0, 'kernel': 'rbf'} with a score of 0.82\n"
          ]
        }
      ],
      "source": [
        "# SVM grid search for params\n",
        "C_range = np.logspace(1, 3, 3)\n",
        "gamma_range = np.logspace(-1, 2, 4)\n",
        "param_grid = dict(kernel=['linear', 'rbf'], C=C_range, gamma=gamma_range)\n",
        "\n",
        "grid = GridSearchCV(SVC(), param_grid=param_grid, refit = True, verbose = 3)\n",
        "grid.fit(X_new, y)\n",
        "\n",
        "print(\"The best parameters are %s with a score of %0.2f\" % (grid.best_params_, grid.best_score_))\n"
      ]
    },
    {
      "cell_type": "code",
      "execution_count": 8,
      "metadata": {
        "id": "DocbAPkurl2T",
        "colab": {
          "base_uri": "https://localhost:8080/",
          "height": 75
        },
        "outputId": "a0b7f039-812d-4a9b-9915-7cdcc8b9ee44"
      },
      "outputs": [
        {
          "output_type": "execute_result",
          "data": {
            "text/plain": [
              "SVC(C=100.0, gamma=1.0)"
            ],
            "text/html": [
              "<style>#sk-container-id-1 {color: black;background-color: white;}#sk-container-id-1 pre{padding: 0;}#sk-container-id-1 div.sk-toggleable {background-color: white;}#sk-container-id-1 label.sk-toggleable__label {cursor: pointer;display: block;width: 100%;margin-bottom: 0;padding: 0.3em;box-sizing: border-box;text-align: center;}#sk-container-id-1 label.sk-toggleable__label-arrow:before {content: \"▸\";float: left;margin-right: 0.25em;color: #696969;}#sk-container-id-1 label.sk-toggleable__label-arrow:hover:before {color: black;}#sk-container-id-1 div.sk-estimator:hover label.sk-toggleable__label-arrow:before {color: black;}#sk-container-id-1 div.sk-toggleable__content {max-height: 0;max-width: 0;overflow: hidden;text-align: left;background-color: #f0f8ff;}#sk-container-id-1 div.sk-toggleable__content pre {margin: 0.2em;color: black;border-radius: 0.25em;background-color: #f0f8ff;}#sk-container-id-1 input.sk-toggleable__control:checked~div.sk-toggleable__content {max-height: 200px;max-width: 100%;overflow: auto;}#sk-container-id-1 input.sk-toggleable__control:checked~label.sk-toggleable__label-arrow:before {content: \"▾\";}#sk-container-id-1 div.sk-estimator input.sk-toggleable__control:checked~label.sk-toggleable__label {background-color: #d4ebff;}#sk-container-id-1 div.sk-label input.sk-toggleable__control:checked~label.sk-toggleable__label {background-color: #d4ebff;}#sk-container-id-1 input.sk-hidden--visually {border: 0;clip: rect(1px 1px 1px 1px);clip: rect(1px, 1px, 1px, 1px);height: 1px;margin: -1px;overflow: hidden;padding: 0;position: absolute;width: 1px;}#sk-container-id-1 div.sk-estimator {font-family: monospace;background-color: #f0f8ff;border: 1px dotted black;border-radius: 0.25em;box-sizing: border-box;margin-bottom: 0.5em;}#sk-container-id-1 div.sk-estimator:hover {background-color: #d4ebff;}#sk-container-id-1 div.sk-parallel-item::after {content: \"\";width: 100%;border-bottom: 1px solid gray;flex-grow: 1;}#sk-container-id-1 div.sk-label:hover label.sk-toggleable__label {background-color: #d4ebff;}#sk-container-id-1 div.sk-serial::before {content: \"\";position: absolute;border-left: 1px solid gray;box-sizing: border-box;top: 0;bottom: 0;left: 50%;z-index: 0;}#sk-container-id-1 div.sk-serial {display: flex;flex-direction: column;align-items: center;background-color: white;padding-right: 0.2em;padding-left: 0.2em;position: relative;}#sk-container-id-1 div.sk-item {position: relative;z-index: 1;}#sk-container-id-1 div.sk-parallel {display: flex;align-items: stretch;justify-content: center;background-color: white;position: relative;}#sk-container-id-1 div.sk-item::before, #sk-container-id-1 div.sk-parallel-item::before {content: \"\";position: absolute;border-left: 1px solid gray;box-sizing: border-box;top: 0;bottom: 0;left: 50%;z-index: -1;}#sk-container-id-1 div.sk-parallel-item {display: flex;flex-direction: column;z-index: 1;position: relative;background-color: white;}#sk-container-id-1 div.sk-parallel-item:first-child::after {align-self: flex-end;width: 50%;}#sk-container-id-1 div.sk-parallel-item:last-child::after {align-self: flex-start;width: 50%;}#sk-container-id-1 div.sk-parallel-item:only-child::after {width: 0;}#sk-container-id-1 div.sk-dashed-wrapped {border: 1px dashed gray;margin: 0 0.4em 0.5em 0.4em;box-sizing: border-box;padding-bottom: 0.4em;background-color: white;}#sk-container-id-1 div.sk-label label {font-family: monospace;font-weight: bold;display: inline-block;line-height: 1.2em;}#sk-container-id-1 div.sk-label-container {text-align: center;}#sk-container-id-1 div.sk-container {/* jupyter's `normalize.less` sets `[hidden] { display: none; }` but bootstrap.min.css set `[hidden] { display: none !important; }` so we also need the `!important` here to be able to override the default hidden behavior on the sphinx rendered scikit-learn.org. See: https://github.com/scikit-learn/scikit-learn/issues/21755 */display: inline-block !important;position: relative;}#sk-container-id-1 div.sk-text-repr-fallback {display: none;}</style><div id=\"sk-container-id-1\" class=\"sk-top-container\"><div class=\"sk-text-repr-fallback\"><pre>SVC(C=100.0, gamma=1.0)</pre><b>In a Jupyter environment, please rerun this cell to show the HTML representation or trust the notebook. <br />On GitHub, the HTML representation is unable to render, please try loading this page with nbviewer.org.</b></div><div class=\"sk-container\" hidden><div class=\"sk-item\"><div class=\"sk-estimator sk-toggleable\"><input class=\"sk-toggleable__control sk-hidden--visually\" id=\"sk-estimator-id-1\" type=\"checkbox\" checked><label for=\"sk-estimator-id-1\" class=\"sk-toggleable__label sk-toggleable__label-arrow\">SVC</label><div class=\"sk-toggleable__content\"><pre>SVC(C=100.0, gamma=1.0)</pre></div></div></div></div></div>"
            ]
          },
          "metadata": {},
          "execution_count": 8
        }
      ],
      "source": [
        "# The best parameters are {'C': 100.0, 'gamma': 1.0, 'kernel': 'rbf'} with a score of 0.82\n",
        "svm_domain1 = SVC(C=100.00, gamma=1.0, kernel='rbf')\n",
        "svm_domain1.fit(X_new, y)"
      ]
    },
    {
      "cell_type": "code",
      "source": [
        "# Export model\n",
        "import pickle as pkl\n",
        "with open(\"svm_domain1.mdl\", \"wb\") as writefile:\n",
        "    pkl.dump([svm_domain1, selector_percentile], writefile )"
      ],
      "metadata": {
        "id": "5XUGFUAXJ752"
      },
      "execution_count": 10,
      "outputs": []
    },
    {
      "cell_type": "code",
      "source": [],
      "metadata": {
        "id": "hM3yYI8Et4m6"
      },
      "execution_count": null,
      "outputs": []
    }
  ],
  "metadata": {
    "colab": {
      "provenance": []
    },
    "kernelspec": {
      "display_name": "Python 3",
      "name": "python3"
    },
    "language_info": {
      "name": "python"
    }
  },
  "nbformat": 4,
  "nbformat_minor": 0
}