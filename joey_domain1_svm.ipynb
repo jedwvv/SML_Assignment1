{
  "cells": [
    {
      "cell_type": "code",
      "execution_count": 41,
      "metadata": {
        "id": "Wa-DL8QfR-pp"
      },
      "outputs": [],
      "source": [
        "# Imports\n",
        "\n",
        "import pandas as pd\n",
        "import json\n",
        "import sklearn\n",
        "import numpy as np\n",
        "\n",
        "from sklearn.feature_extraction.text import TfidfVectorizer\n",
        "from sklearn.model_selection import KFold, GridSearchCV, StratifiedShuffleSplit\n",
        "from sklearn import datasets\n",
        "from sklearn.svm import SVC\n",
        "from sklearn.metrics import accuracy_score, precision_score, recall_score, f1_score\n",
        "from sklearn.naive_bayes import GaussianNB, MultinomialNB\n",
        "from sklearn.metrics import accuracy_score\n",
        "from sklearn.model_selection import train_test_split\n",
        "from sklearn.preprocessing import StandardScaler, MinMaxScaler\n",
        "from sklearn.decomposition import PCA\n",
        "from sklearn.decomposition import IncrementalPCA, PCA, SparsePCA\n",
        "from sklearn.feature_selection import mutual_info_classif, f_classif, SelectKBest, chi2, SelectPercentile\n",
        "from sklearn.model_selection import KFold\n",
        "from sklearn.preprocessing import PolynomialFeatures, PowerTransformer\n",
        "from sklearn.pipeline import Pipeline\n"
      ]
    },
    {
      "cell_type": "code",
      "source": [
        "def tfidf_tokenizer(self):\n",
        "  return self"
      ],
      "metadata": {
        "id": "YytsX_bscZmm"
      },
      "execution_count": 52,
      "outputs": []
    },
    {
      "cell_type": "code",
      "execution_count": 53,
      "metadata": {
        "id": "ifBkexOTq4dY",
        "colab": {
          "base_uri": "https://localhost:8080/"
        },
        "outputId": "86f8c913-420e-4938-8faa-0735e7da771e"
      },
      "outputs": [
        {
          "output_type": "stream",
          "name": "stderr",
          "text": [
            "/usr/local/lib/python3.10/dist-packages/sklearn/feature_extraction/text.py:528: UserWarning: The parameter 'token_pattern' will not be used since 'tokenizer' is not None'\n",
            "  warnings.warn(\n"
          ]
        }
      ],
      "source": [
        "with open(\"/content/domain1_train_data.json\") as f:\n",
        "    df_domain1 = pd.read_json(f, lines=True)\n",
        "\n",
        "# TF-IDF\n",
        "TFIDF_MAX_FEATURES = 3000\n",
        "tfidf_vect = TfidfVectorizer(max_df=0.5,\n",
        "                             max_features = TFIDF_MAX_FEATURES,\n",
        "                             lowercase=False, tokenizer=tfidf_tokenizer)\n",
        "X_new = tfidf_vect.fit_transform(df_domain1['text'])\n",
        "y = df_domain1['label']\n"
      ]
    },
    {
      "cell_type": "code",
      "execution_count": 43,
      "metadata": {
        "colab": {
          "base_uri": "https://localhost:8080/"
        },
        "id": "zdqFsZtlrkEr",
        "outputId": "5afe88d7-fb65-4238-c4ba-3cbeca42059d"
      },
      "outputs": [
        {
          "output_type": "stream",
          "name": "stdout",
          "text": [
            "Fitting 5 folds for each of 24 candidates, totalling 120 fits\n",
            "[CV 1/5] END ..C=10.0, gamma=0.1, kernel=linear;, score=0.726 total time=  10.4s\n",
            "[CV 2/5] END ..C=10.0, gamma=0.1, kernel=linear;, score=0.674 total time=  10.3s\n",
            "[CV 3/5] END ..C=10.0, gamma=0.1, kernel=linear;, score=0.668 total time=   9.9s\n",
            "[CV 4/5] END ..C=10.0, gamma=0.1, kernel=linear;, score=0.686 total time=   9.8s\n",
            "[CV 5/5] END ..C=10.0, gamma=0.1, kernel=linear;, score=0.688 total time=  10.0s\n",
            "[CV 1/5] END .....C=10.0, gamma=0.1, kernel=rbf;, score=0.732 total time=  11.7s\n",
            "[CV 2/5] END .....C=10.0, gamma=0.1, kernel=rbf;, score=0.733 total time=  11.6s\n",
            "[CV 3/5] END .....C=10.0, gamma=0.1, kernel=rbf;, score=0.701 total time=  11.8s\n",
            "[CV 4/5] END .....C=10.0, gamma=0.1, kernel=rbf;, score=0.721 total time=  11.9s\n",
            "[CV 5/5] END .....C=10.0, gamma=0.1, kernel=rbf;, score=0.714 total time=  12.0s\n",
            "[CV 1/5] END ..C=10.0, gamma=1.0, kernel=linear;, score=0.726 total time=  10.4s\n",
            "[CV 2/5] END ..C=10.0, gamma=1.0, kernel=linear;, score=0.674 total time=   9.9s\n",
            "[CV 3/5] END ..C=10.0, gamma=1.0, kernel=linear;, score=0.668 total time=  10.1s\n",
            "[CV 4/5] END ..C=10.0, gamma=1.0, kernel=linear;, score=0.686 total time=  10.3s\n",
            "[CV 5/5] END ..C=10.0, gamma=1.0, kernel=linear;, score=0.688 total time=  10.2s\n",
            "[CV 1/5] END .....C=10.0, gamma=1.0, kernel=rbf;, score=0.792 total time=  15.1s\n",
            "[CV 2/5] END .....C=10.0, gamma=1.0, kernel=rbf;, score=0.778 total time=  15.1s\n",
            "[CV 3/5] END .....C=10.0, gamma=1.0, kernel=rbf;, score=0.756 total time=  15.3s\n",
            "[CV 4/5] END .....C=10.0, gamma=1.0, kernel=rbf;, score=0.787 total time=  15.9s\n",
            "[CV 5/5] END .....C=10.0, gamma=1.0, kernel=rbf;, score=0.776 total time=  15.8s\n",
            "[CV 1/5] END .C=10.0, gamma=10.0, kernel=linear;, score=0.726 total time=  10.5s\n",
            "[CV 2/5] END .C=10.0, gamma=10.0, kernel=linear;, score=0.674 total time=  10.2s\n",
            "[CV 3/5] END .C=10.0, gamma=10.0, kernel=linear;, score=0.668 total time=   9.9s\n",
            "[CV 4/5] END .C=10.0, gamma=10.0, kernel=linear;, score=0.686 total time=  10.4s\n",
            "[CV 5/5] END .C=10.0, gamma=10.0, kernel=linear;, score=0.688 total time=  10.3s\n",
            "[CV 1/5] END ....C=10.0, gamma=10.0, kernel=rbf;, score=0.552 total time=  15.5s\n",
            "[CV 2/5] END ....C=10.0, gamma=10.0, kernel=rbf;, score=0.565 total time=  15.8s\n",
            "[CV 3/5] END ....C=10.0, gamma=10.0, kernel=rbf;, score=0.575 total time=  16.2s\n",
            "[CV 4/5] END ....C=10.0, gamma=10.0, kernel=rbf;, score=0.574 total time=  15.8s\n",
            "[CV 5/5] END ....C=10.0, gamma=10.0, kernel=rbf;, score=0.567 total time=  16.3s\n",
            "[CV 1/5] END C=10.0, gamma=100.0, kernel=linear;, score=0.726 total time=  10.4s\n",
            "[CV 2/5] END C=10.0, gamma=100.0, kernel=linear;, score=0.674 total time=  10.3s\n",
            "[CV 3/5] END C=10.0, gamma=100.0, kernel=linear;, score=0.668 total time=  10.4s\n",
            "[CV 4/5] END C=10.0, gamma=100.0, kernel=linear;, score=0.686 total time=  10.1s\n",
            "[CV 5/5] END C=10.0, gamma=100.0, kernel=linear;, score=0.688 total time=   9.8s\n",
            "[CV 1/5] END ...C=10.0, gamma=100.0, kernel=rbf;, score=0.502 total time=  16.3s\n",
            "[CV 2/5] END ...C=10.0, gamma=100.0, kernel=rbf;, score=0.506 total time=  15.5s\n",
            "[CV 3/5] END ...C=10.0, gamma=100.0, kernel=rbf;, score=0.502 total time=  15.8s\n",
            "[CV 4/5] END ...C=10.0, gamma=100.0, kernel=rbf;, score=0.503 total time=  16.5s\n",
            "[CV 5/5] END ...C=10.0, gamma=100.0, kernel=rbf;, score=0.504 total time=  16.5s\n",
            "[CV 1/5] END .C=100.0, gamma=0.1, kernel=linear;, score=0.710 total time=  10.9s\n",
            "[CV 2/5] END .C=100.0, gamma=0.1, kernel=linear;, score=0.668 total time=  10.8s\n",
            "[CV 3/5] END .C=100.0, gamma=0.1, kernel=linear;, score=0.659 total time=  10.9s\n",
            "[CV 4/5] END .C=100.0, gamma=0.1, kernel=linear;, score=0.675 total time=  10.8s\n",
            "[CV 5/5] END .C=100.0, gamma=0.1, kernel=linear;, score=0.669 total time=  10.4s\n",
            "[CV 1/5] END ....C=100.0, gamma=0.1, kernel=rbf;, score=0.744 total time=  13.7s\n",
            "[CV 2/5] END ....C=100.0, gamma=0.1, kernel=rbf;, score=0.703 total time=  13.4s\n",
            "[CV 3/5] END ....C=100.0, gamma=0.1, kernel=rbf;, score=0.688 total time=  15.8s\n",
            "[CV 4/5] END ....C=100.0, gamma=0.1, kernel=rbf;, score=0.715 total time=  14.0s\n",
            "[CV 5/5] END ....C=100.0, gamma=0.1, kernel=rbf;, score=0.706 total time=  19.7s\n",
            "[CV 1/5] END .C=100.0, gamma=1.0, kernel=linear;, score=0.710 total time=  15.0s\n",
            "[CV 2/5] END .C=100.0, gamma=1.0, kernel=linear;, score=0.668 total time=  12.5s\n",
            "[CV 3/5] END .C=100.0, gamma=1.0, kernel=linear;, score=0.659 total time=  10.8s\n",
            "[CV 4/5] END .C=100.0, gamma=1.0, kernel=linear;, score=0.675 total time=  11.0s\n",
            "[CV 5/5] END .C=100.0, gamma=1.0, kernel=linear;, score=0.669 total time=  10.4s\n",
            "[CV 1/5] END ....C=100.0, gamma=1.0, kernel=rbf;, score=0.797 total time=  15.7s\n",
            "[CV 2/5] END ....C=100.0, gamma=1.0, kernel=rbf;, score=0.777 total time=  15.1s\n",
            "[CV 3/5] END ....C=100.0, gamma=1.0, kernel=rbf;, score=0.758 total time=  15.3s\n",
            "[CV 4/5] END ....C=100.0, gamma=1.0, kernel=rbf;, score=0.788 total time=  16.0s\n",
            "[CV 5/5] END ....C=100.0, gamma=1.0, kernel=rbf;, score=0.776 total time=  15.8s\n",
            "[CV 1/5] END C=100.0, gamma=10.0, kernel=linear;, score=0.710 total time=  10.8s\n",
            "[CV 2/5] END C=100.0, gamma=10.0, kernel=linear;, score=0.668 total time=  10.6s\n",
            "[CV 3/5] END C=100.0, gamma=10.0, kernel=linear;, score=0.659 total time=  10.9s\n",
            "[CV 4/5] END C=100.0, gamma=10.0, kernel=linear;, score=0.675 total time=  10.8s\n",
            "[CV 5/5] END C=100.0, gamma=10.0, kernel=linear;, score=0.669 total time=  10.6s\n",
            "[CV 1/5] END ...C=100.0, gamma=10.0, kernel=rbf;, score=0.552 total time=  15.4s\n",
            "[CV 2/5] END ...C=100.0, gamma=10.0, kernel=rbf;, score=0.565 total time=  15.4s\n",
            "[CV 3/5] END ...C=100.0, gamma=10.0, kernel=rbf;, score=0.575 total time=  16.6s\n",
            "[CV 4/5] END ...C=100.0, gamma=10.0, kernel=rbf;, score=0.574 total time=  16.2s\n",
            "[CV 5/5] END ...C=100.0, gamma=10.0, kernel=rbf;, score=0.567 total time=  15.5s\n",
            "[CV 1/5] END C=100.0, gamma=100.0, kernel=linear;, score=0.710 total time=  10.8s\n",
            "[CV 2/5] END C=100.0, gamma=100.0, kernel=linear;, score=0.668 total time=  11.0s\n",
            "[CV 3/5] END C=100.0, gamma=100.0, kernel=linear;, score=0.659 total time=  10.6s\n",
            "[CV 4/5] END C=100.0, gamma=100.0, kernel=linear;, score=0.675 total time=  10.2s\n",
            "[CV 5/5] END C=100.0, gamma=100.0, kernel=linear;, score=0.669 total time=  10.5s\n",
            "[CV 1/5] END ..C=100.0, gamma=100.0, kernel=rbf;, score=0.502 total time=  15.8s\n",
            "[CV 2/5] END ..C=100.0, gamma=100.0, kernel=rbf;, score=0.506 total time=  16.1s\n",
            "[CV 3/5] END ..C=100.0, gamma=100.0, kernel=rbf;, score=0.502 total time=  16.6s\n",
            "[CV 4/5] END ..C=100.0, gamma=100.0, kernel=rbf;, score=0.503 total time=  15.5s\n",
            "[CV 5/5] END ..C=100.0, gamma=100.0, kernel=rbf;, score=0.504 total time=  15.6s\n",
            "[CV 1/5] END C=1000.0, gamma=0.1, kernel=linear;, score=0.714 total time=  11.1s\n",
            "[CV 2/5] END C=1000.0, gamma=0.1, kernel=linear;, score=0.662 total time=  10.7s\n",
            "[CV 3/5] END C=1000.0, gamma=0.1, kernel=linear;, score=0.660 total time=  10.7s\n",
            "[CV 4/5] END C=1000.0, gamma=0.1, kernel=linear;, score=0.668 total time=  10.6s\n",
            "[CV 5/5] END C=1000.0, gamma=0.1, kernel=linear;, score=0.669 total time=  10.7s\n",
            "[CV 1/5] END ...C=1000.0, gamma=0.1, kernel=rbf;, score=0.749 total time=  13.6s\n",
            "[CV 2/5] END ...C=1000.0, gamma=0.1, kernel=rbf;, score=0.700 total time=  13.2s\n",
            "[CV 3/5] END ...C=1000.0, gamma=0.1, kernel=rbf;, score=0.686 total time=  13.8s\n",
            "[CV 4/5] END ...C=1000.0, gamma=0.1, kernel=rbf;, score=0.699 total time=  15.8s\n",
            "[CV 5/5] END ...C=1000.0, gamma=0.1, kernel=rbf;, score=0.704 total time=  13.3s\n",
            "[CV 1/5] END C=1000.0, gamma=1.0, kernel=linear;, score=0.714 total time=  10.8s\n",
            "[CV 2/5] END C=1000.0, gamma=1.0, kernel=linear;, score=0.662 total time=  10.9s\n",
            "[CV 3/5] END C=1000.0, gamma=1.0, kernel=linear;, score=0.660 total time=  11.2s\n",
            "[CV 4/5] END C=1000.0, gamma=1.0, kernel=linear;, score=0.668 total time=  10.7s\n",
            "[CV 5/5] END C=1000.0, gamma=1.0, kernel=linear;, score=0.669 total time=  10.2s\n",
            "[CV 1/5] END ...C=1000.0, gamma=1.0, kernel=rbf;, score=0.797 total time=  16.6s\n",
            "[CV 2/5] END ...C=1000.0, gamma=1.0, kernel=rbf;, score=0.777 total time=  15.7s\n",
            "[CV 3/5] END ...C=1000.0, gamma=1.0, kernel=rbf;, score=0.758 total time=  16.8s\n",
            "[CV 4/5] END ...C=1000.0, gamma=1.0, kernel=rbf;, score=0.788 total time=  16.5s\n",
            "[CV 5/5] END ...C=1000.0, gamma=1.0, kernel=rbf;, score=0.776 total time=  15.8s\n",
            "[CV 1/5] END C=1000.0, gamma=10.0, kernel=linear;, score=0.714 total time=  11.4s\n",
            "[CV 2/5] END C=1000.0, gamma=10.0, kernel=linear;, score=0.662 total time=  11.0s\n",
            "[CV 3/5] END C=1000.0, gamma=10.0, kernel=linear;, score=0.660 total time=  10.5s\n",
            "[CV 4/5] END C=1000.0, gamma=10.0, kernel=linear;, score=0.668 total time=  10.4s\n",
            "[CV 5/5] END C=1000.0, gamma=10.0, kernel=linear;, score=0.669 total time=  10.6s\n",
            "[CV 1/5] END ..C=1000.0, gamma=10.0, kernel=rbf;, score=0.552 total time=  15.5s\n",
            "[CV 2/5] END ..C=1000.0, gamma=10.0, kernel=rbf;, score=0.565 total time=  17.6s\n",
            "[CV 3/5] END ..C=1000.0, gamma=10.0, kernel=rbf;, score=0.575 total time=  16.7s\n",
            "[CV 4/5] END ..C=1000.0, gamma=10.0, kernel=rbf;, score=0.574 total time=  16.0s\n",
            "[CV 5/5] END ..C=1000.0, gamma=10.0, kernel=rbf;, score=0.567 total time=  16.2s\n",
            "[CV 1/5] END C=1000.0, gamma=100.0, kernel=linear;, score=0.714 total time=  10.8s\n",
            "[CV 2/5] END C=1000.0, gamma=100.0, kernel=linear;, score=0.662 total time=  10.8s\n",
            "[CV 3/5] END C=1000.0, gamma=100.0, kernel=linear;, score=0.660 total time=  11.0s\n",
            "[CV 4/5] END C=1000.0, gamma=100.0, kernel=linear;, score=0.668 total time=  10.4s\n",
            "[CV 5/5] END C=1000.0, gamma=100.0, kernel=linear;, score=0.669 total time=  10.8s\n",
            "[CV 1/5] END .C=1000.0, gamma=100.0, kernel=rbf;, score=0.502 total time=  15.3s\n",
            "[CV 2/5] END .C=1000.0, gamma=100.0, kernel=rbf;, score=0.506 total time=  15.4s\n",
            "[CV 3/5] END .C=1000.0, gamma=100.0, kernel=rbf;, score=0.502 total time=  16.0s\n",
            "[CV 4/5] END .C=1000.0, gamma=100.0, kernel=rbf;, score=0.503 total time=  16.0s\n",
            "[CV 5/5] END .C=1000.0, gamma=100.0, kernel=rbf;, score=0.504 total time=  15.6s\n",
            "The best parameters are {'C': 100.0, 'gamma': 1.0, 'kernel': 'rbf'} with a score of 0.78\n"
          ]
        }
      ],
      "source": [
        "# SVM grid search for params\n",
        "C_range = np.logspace(1, 3, 3)\n",
        "gamma_range = np.logspace(-1, 2, 4)\n",
        "param_grid = dict(kernel=['linear', 'rbf'], C=C_range, gamma=gamma_range)\n",
        "\n",
        "grid = GridSearchCV(SVC(), param_grid=param_grid, refit = True, verbose = 3)\n",
        "grid.fit(X_new, y)\n",
        "\n",
        "print(\"The best parameters are %s with a score of %0.2f\" % (grid.best_params_, grid.best_score_))\n"
      ]
    },
    {
      "cell_type": "code",
      "execution_count": 44,
      "metadata": {
        "id": "DocbAPkurl2T",
        "colab": {
          "base_uri": "https://localhost:8080/",
          "height": 74
        },
        "outputId": "ff43dc9d-f5cf-4e46-9fa5-f5dfea033078"
      },
      "outputs": [
        {
          "output_type": "execute_result",
          "data": {
            "text/plain": [
              "SVC(C=100.0, gamma=1.0)"
            ],
            "text/html": [
              "<style>#sk-container-id-3 {color: black;background-color: white;}#sk-container-id-3 pre{padding: 0;}#sk-container-id-3 div.sk-toggleable {background-color: white;}#sk-container-id-3 label.sk-toggleable__label {cursor: pointer;display: block;width: 100%;margin-bottom: 0;padding: 0.3em;box-sizing: border-box;text-align: center;}#sk-container-id-3 label.sk-toggleable__label-arrow:before {content: \"▸\";float: left;margin-right: 0.25em;color: #696969;}#sk-container-id-3 label.sk-toggleable__label-arrow:hover:before {color: black;}#sk-container-id-3 div.sk-estimator:hover label.sk-toggleable__label-arrow:before {color: black;}#sk-container-id-3 div.sk-toggleable__content {max-height: 0;max-width: 0;overflow: hidden;text-align: left;background-color: #f0f8ff;}#sk-container-id-3 div.sk-toggleable__content pre {margin: 0.2em;color: black;border-radius: 0.25em;background-color: #f0f8ff;}#sk-container-id-3 input.sk-toggleable__control:checked~div.sk-toggleable__content {max-height: 200px;max-width: 100%;overflow: auto;}#sk-container-id-3 input.sk-toggleable__control:checked~label.sk-toggleable__label-arrow:before {content: \"▾\";}#sk-container-id-3 div.sk-estimator input.sk-toggleable__control:checked~label.sk-toggleable__label {background-color: #d4ebff;}#sk-container-id-3 div.sk-label input.sk-toggleable__control:checked~label.sk-toggleable__label {background-color: #d4ebff;}#sk-container-id-3 input.sk-hidden--visually {border: 0;clip: rect(1px 1px 1px 1px);clip: rect(1px, 1px, 1px, 1px);height: 1px;margin: -1px;overflow: hidden;padding: 0;position: absolute;width: 1px;}#sk-container-id-3 div.sk-estimator {font-family: monospace;background-color: #f0f8ff;border: 1px dotted black;border-radius: 0.25em;box-sizing: border-box;margin-bottom: 0.5em;}#sk-container-id-3 div.sk-estimator:hover {background-color: #d4ebff;}#sk-container-id-3 div.sk-parallel-item::after {content: \"\";width: 100%;border-bottom: 1px solid gray;flex-grow: 1;}#sk-container-id-3 div.sk-label:hover label.sk-toggleable__label {background-color: #d4ebff;}#sk-container-id-3 div.sk-serial::before {content: \"\";position: absolute;border-left: 1px solid gray;box-sizing: border-box;top: 0;bottom: 0;left: 50%;z-index: 0;}#sk-container-id-3 div.sk-serial {display: flex;flex-direction: column;align-items: center;background-color: white;padding-right: 0.2em;padding-left: 0.2em;position: relative;}#sk-container-id-3 div.sk-item {position: relative;z-index: 1;}#sk-container-id-3 div.sk-parallel {display: flex;align-items: stretch;justify-content: center;background-color: white;position: relative;}#sk-container-id-3 div.sk-item::before, #sk-container-id-3 div.sk-parallel-item::before {content: \"\";position: absolute;border-left: 1px solid gray;box-sizing: border-box;top: 0;bottom: 0;left: 50%;z-index: -1;}#sk-container-id-3 div.sk-parallel-item {display: flex;flex-direction: column;z-index: 1;position: relative;background-color: white;}#sk-container-id-3 div.sk-parallel-item:first-child::after {align-self: flex-end;width: 50%;}#sk-container-id-3 div.sk-parallel-item:last-child::after {align-self: flex-start;width: 50%;}#sk-container-id-3 div.sk-parallel-item:only-child::after {width: 0;}#sk-container-id-3 div.sk-dashed-wrapped {border: 1px dashed gray;margin: 0 0.4em 0.5em 0.4em;box-sizing: border-box;padding-bottom: 0.4em;background-color: white;}#sk-container-id-3 div.sk-label label {font-family: monospace;font-weight: bold;display: inline-block;line-height: 1.2em;}#sk-container-id-3 div.sk-label-container {text-align: center;}#sk-container-id-3 div.sk-container {/* jupyter's `normalize.less` sets `[hidden] { display: none; }` but bootstrap.min.css set `[hidden] { display: none !important; }` so we also need the `!important` here to be able to override the default hidden behavior on the sphinx rendered scikit-learn.org. See: https://github.com/scikit-learn/scikit-learn/issues/21755 */display: inline-block !important;position: relative;}#sk-container-id-3 div.sk-text-repr-fallback {display: none;}</style><div id=\"sk-container-id-3\" class=\"sk-top-container\"><div class=\"sk-text-repr-fallback\"><pre>SVC(C=100.0, gamma=1.0)</pre><b>In a Jupyter environment, please rerun this cell to show the HTML representation or trust the notebook. <br />On GitHub, the HTML representation is unable to render, please try loading this page with nbviewer.org.</b></div><div class=\"sk-container\" hidden><div class=\"sk-item\"><div class=\"sk-estimator sk-toggleable\"><input class=\"sk-toggleable__control sk-hidden--visually\" id=\"sk-estimator-id-3\" type=\"checkbox\" checked><label for=\"sk-estimator-id-3\" class=\"sk-toggleable__label sk-toggleable__label-arrow\">SVC</label><div class=\"sk-toggleable__content\"><pre>SVC(C=100.0, gamma=1.0)</pre></div></div></div></div></div>"
            ]
          },
          "metadata": {},
          "execution_count": 44
        }
      ],
      "source": [
        "# The best parameters are {'C': 100.0, 'gamma': 1.0, 'kernel': 'rbf'} with a cv score of 0.78\n",
        "svm_domain1 = SVC(C=100.00, gamma=1.0, kernel='rbf')\n",
        "svm_domain1.fit(X_new, y)"
      ]
    },
    {
      "cell_type": "code",
      "source": [
        "# Export model\n",
        "import pickle as pkl\n",
        "with open(\"svm_domain1.pkl\", \"wb\") as writefile:\n",
        "    pkl.dump([tfidf_vect, svm_domain1], writefile)"
      ],
      "metadata": {
        "id": "5XUGFUAXJ752"
      },
      "execution_count": 54,
      "outputs": []
    },
    {
      "cell_type": "code",
      "source": [
        "# Export pipeline\n",
        "pipe = Pipeline([\n",
        "    ('tfidf', tfidf_vect),\n",
        "    ('svc', svm_domain1)\n",
        "])\n",
        "\n",
        "import pickle as pkl\n",
        "with open(\"joey_svm_domain1_pipeline.pkl\", \"wb\") as writefile:\n",
        "    pkl.dump([pipe, tfidf_vect, tfidf_tokenizer, svm_domain1], writefile)\n"
      ],
      "metadata": {
        "id": "z0apjIE8LlNp"
      },
      "execution_count": 57,
      "outputs": []
    },
    {
      "cell_type": "code",
      "source": [
        "# Test data prediction\n",
        "with open(\"/content/test_data.json\") as f:\n",
        "    df_test = pd.read_json(f, lines=True)\n",
        "\n",
        "pred_svm_domain1 = pipe.predict(df_test['text'])\n"
      ],
      "metadata": {
        "id": "hM3yYI8Et4m6"
      },
      "execution_count": 58,
      "outputs": []
    },
    {
      "cell_type": "code",
      "source": [
        "\n",
        "# Save Predictions to CSV\n",
        "output_df = pd.DataFrame({'id': df_test['id'], 'class': pred_svm_domain1})\n",
        "output_csv_path = '/content/test_predictions.csv'\n",
        "output_df.to_csv(output_csv_path, index=False)"
      ],
      "metadata": {
        "id": "7kSCkNpFRiWx"
      },
      "execution_count": 59,
      "outputs": []
    },
    {
      "cell_type": "code",
      "source": [],
      "metadata": {
        "id": "HiepvDEBM_He"
      },
      "execution_count": null,
      "outputs": []
    }
  ],
  "metadata": {
    "colab": {
      "provenance": []
    },
    "kernelspec": {
      "display_name": "Python 3",
      "name": "python3"
    },
    "language_info": {
      "name": "python"
    }
  },
  "nbformat": 4,
  "nbformat_minor": 0
}