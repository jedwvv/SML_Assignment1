{
  "cells": [
    {
      "cell_type": "code",
      "execution_count": 1,
      "metadata": {
        "id": "Wa-DL8QfR-pp"
      },
      "outputs": [],
      "source": [
        "# Imports\n",
        "\n",
        "import pandas as pd\n",
        "import json\n",
        "import sklearn\n",
        "import numpy as np\n",
        "\n",
        "from sklearn.feature_extraction.text import TfidfVectorizer\n",
        "from sklearn.model_selection import KFold, GridSearchCV, StratifiedShuffleSplit\n",
        "from sklearn import datasets\n",
        "from sklearn.svm import SVC\n",
        "from sklearn.metrics import accuracy_score, precision_score, recall_score, f1_score\n",
        "from sklearn.naive_bayes import GaussianNB, MultinomialNB\n",
        "from sklearn.metrics import accuracy_score\n",
        "from sklearn.model_selection import train_test_split\n",
        "from sklearn.preprocessing import StandardScaler, MinMaxScaler\n",
        "from sklearn.decomposition import PCA\n",
        "from sklearn.decomposition import IncrementalPCA, PCA, SparsePCA\n",
        "from sklearn.feature_selection import mutual_info_classif, f_classif, SelectKBest, chi2, SelectPercentile\n",
        "from sklearn.model_selection import KFold\n",
        "from sklearn.preprocessing import PolynomialFeatures, PowerTransformer\n",
        "\n"
      ]
    },
    {
      "cell_type": "code",
      "execution_count": 3,
      "metadata": {
        "id": "ifBkexOTq4dY"
      },
      "outputs": [],
      "source": [
        "# Datafile from Jedwin's feature extraction\n",
        "from scipy import sparse\n",
        "temp_sparse_ = sparse.load_npz( \"/content/domain1_X_y_csr.npz\" )\n",
        "temp_loaded = temp_sparse_.toarray()\n",
        "n_samples, n_features = temp_loaded.shape\n",
        "n_features -= 1 #Since the last column is actually the label\n",
        "\n",
        "X = temp_loaded[:,:n_features]\n",
        "y = temp_loaded[:,n_features]\n",
        "del temp_loaded, temp_sparse_"
      ]
    },
    {
      "cell_type": "code",
      "execution_count": 4,
      "metadata": {
        "colab": {
          "base_uri": "https://localhost:8080/"
        },
        "id": "BoAOKNZprdcJ",
        "outputId": "fdd7ea74-01bd-425c-d4ad-9a0b0e09e0f3"
      },
      "outputs": [
        {
          "output_type": "stream",
          "name": "stderr",
          "text": [
            "/usr/local/lib/python3.10/dist-packages/sklearn/feature_selection/_univariate_selection.py:112: UserWarning: Features [   0    1    2    3    4    5    6    7    8    9   10   11   12   13\n",
            "   14   15   16   17   18   19   20   22  131  166  211  212  213  214\n",
            "  242  248  252  254  261  262  263  285  298  318  344  383  387  437\n",
            "  450  460  463  469  482  483  500  518  538  539  540  541  542  544\n",
            "  552  555  556  557  562  589  605  606  619  626  634  647  650  656\n",
            "  661  667  668  682  725  726  729  734  790  843  844  860  880  887\n",
            "  912  918  934  947  962  985  986  987  991 1003 1027 1050 1071 1108\n",
            " 1109 1135 1136 1139 1140 1148 1149 1173 1174 1175 1187 1194 1199 1216\n",
            " 1243 1300 1457 1559 1592 1635 1644 1688 1729 1749 1750 1803 1831 1847\n",
            " 1848 1894 1897 1953 1959 1964 1973 2001 2031 2038 2042 2043 2063 2070\n",
            " 2082 2244 2262 2267 2316 2375 2376 2427 2430 2451 2471 2478 2512 2524\n",
            " 2539 2565 2718 2748 2761 2771 2817 2818 2828 2833 2847 2972 2985 3065\n",
            " 3131 3132 3139 3189 3190 3296 3303 3307 3308 3322 3466 3507 3569 3570\n",
            " 3571 3572 3603 3607 3658 3661 3662 3663 3664 3665 3671 3709 3775 3800\n",
            " 3877 3888 3899 3904 3962 4046 4066 4090 4097 4265 4266 4335 4354 4441\n",
            " 4445 4453 4455 4495 4496 4503 4505 4609 4631 4642 4643 4657 4667 4668\n",
            " 4669 4737 4754 4761 4775 4794 4796 4801 4804 4836 4871 4903 4912 5018\n",
            " 5025 5034 5049 5063 5117 5118 5119 5120 5121 5122 5123 5139 5201 5251\n",
            " 5255 5256 5257 5258 5263 5289 5301 5302 5303 5304 5323 5325 5350 5382\n",
            " 5395 5447 5448 5450 5452 5455 5532 5553 5584 5598 5599 5606 5609 5611\n",
            " 5614 5627 5629 5631 5662 5664 5671 5683 5717 5740 5752 5764 5771 5797\n",
            " 5830 5833 5856 5858 5867 5878 5881 5883 5886 5887 5893 5897 5961 5981\n",
            " 5988 6009 6012 6029 6110 6133 6137 6143 6161 6162 6163 6165] are constant.\n",
            "  warnings.warn(\"Features %s are constant.\" % constant_features_idx, UserWarning)\n",
            "/usr/local/lib/python3.10/dist-packages/sklearn/feature_selection/_univariate_selection.py:113: RuntimeWarning: invalid value encountered in divide\n",
            "  f = msb / msw\n"
          ]
        }
      ],
      "source": [
        "selector_percentile = SelectPercentile( f_classif, percentile = 80 )\n",
        "X_new = selector_percentile.fit_transform(X, y)"
      ]
    },
    {
      "cell_type": "code",
      "execution_count": null,
      "metadata": {
        "colab": {
          "base_uri": "https://localhost:8080/"
        },
        "id": "zdqFsZtlrkEr",
        "outputId": "e7358cda-35b3-4162-aacd-ebc36b51e876"
      },
      "outputs": [
        {
          "output_type": "stream",
          "name": "stdout",
          "text": [
            "Fitting 5 folds for each of 400 candidates, totalling 2000 fits\n"
          ]
        }
      ],
      "source": [
        "# SVM grid search for params\n",
        "C_range = np.logspace(-1, 3, 10) # Best: C=46.41\n",
        "gamma_range = np.logspace(-3, 6, 10) # Best: gamma=1.0\n",
        "param_grid = dict(kernel=['linear', 'rbf'], C=C_range, gamma=gamma_range, class_weight=[None, 'balanced'])\n",
        "\n",
        "grid = GridSearchCV(SVC(), param_grid=param_grid, refit = True, verbose = 3)\n",
        "grid.fit(X_new, y)\n",
        "\n",
        "print(\"The best parameters are %s with a score of %0.2f\" % (grid.best_params_, grid.best_score_))\n"
      ]
    },
    {
      "cell_type": "code",
      "execution_count": null,
      "metadata": {
        "id": "DocbAPkurl2T"
      },
      "outputs": [],
      "source": [
        "svm_domain1 = svm.SVC(kernel='rbf', C=46.4, gamma=1.0)\n",
        "svm_domain1.fit(X_new, y)"
      ]
    },
    {
      "cell_type": "code",
      "source": [
        "# Export model\n",
        "import pickle as pkl\n",
        "with open(\"svm_domain1.mdl\", \"wb\") as writefile:\n",
        "    pkl.dump([svm_domain1, selector_percentile], writefile )"
      ],
      "metadata": {
        "id": "5XUGFUAXJ752"
      },
      "execution_count": 15,
      "outputs": []
    }
  ],
  "metadata": {
    "colab": {
      "provenance": []
    },
    "kernelspec": {
      "display_name": "Python 3",
      "name": "python3"
    },
    "language_info": {
      "name": "python"
    }
  },
  "nbformat": 4,
  "nbformat_minor": 0
}