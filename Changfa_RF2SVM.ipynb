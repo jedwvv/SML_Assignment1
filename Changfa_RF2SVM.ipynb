{
 "cells": [
  {
   "cell_type": "code",
   "execution_count": 1,
   "id": "c11c9417",
   "metadata": {},
   "outputs": [],
   "source": [
    "# Import Libraries\n",
    "import pandas as pd\n",
    "import numpy as np\n",
    "from sklearn.model_selection import KFold\n",
    "from sklearn.ensemble import RandomForestClassifier\n",
    "from sklearn.svm import SVC\n",
    "from sklearn.metrics import accuracy_score, roc_auc_score, f1_score\n",
    "from sklearn.feature_extraction.text import CountVectorizer\n",
    "import matplotlib.pyplot as plt\n",
    "\n"
   ]
  },
  {
   "cell_type": "code",
   "execution_count": 2,
   "id": "f730e2fc",
   "metadata": {},
   "outputs": [],
   "source": [
    "# Load and preprocess training data\n",
    "def load_and_preprocess(path):\n",
    "    df = pd.read_json(path, lines=True)\n",
    "    df['text'] = df['text'].apply(lambda tokens: ' '.join(map(str, tokens)))\n",
    "    return df\n",
    "\n",
    "df_domain1 = load_and_preprocess('domain1_train_data.json')\n",
    "df_domain2 = load_and_preprocess('domain2_train_data.json')\n",
    "df_combined = pd.concat([df_domain1, df_domain2], ignore_index=True)\n",
    "\n",
    "vectorizer = CountVectorizer()\n",
    "X = vectorizer.fit_transform(df_combined['text'])\n",
    "y = df_combined['label'].values\n",
    "\n"
   ]
  },
  {
   "cell_type": "code",
   "execution_count": null,
   "id": "cbfdbd94",
   "metadata": {},
   "outputs": [
    {
     "name": "stdout",
     "output_type": "stream",
     "text": [
      "[0.8308333333333333] [0.5044751830756713] [0.8784346042575821]\n",
      "[0.8308333333333333, 0.84] [0.5044751830756713, 0.5199999999999999] [0.8784346042575821, 0.8863227179199401]\n",
      "[0.8308333333333333, 0.84, 0.8405555555555555] [0.5044751830756713, 0.5199999999999999, 0.5400641025641026] [0.8784346042575821, 0.8863227179199401, 0.8794472461912438]\n"
     ]
    }
   ],
   "source": [
    "# Prepare K-Fold Cross-Validation\n",
    "kf = KFold(n_splits=5, shuffle=True, random_state=42)\n",
    "\n",
    "# Metrics storage\n",
    "accuracies, f1_scores, roc_auc_scores = [], [], []\n",
    "\n",
    "for train_index, test_index in kf.split(X):\n",
    "    X_train, X_test = X[train_index], X[test_index]\n",
    "    y_train, y_test = y[train_index], y[test_index]\n",
    "\n",
    "    # Train RandomForest and predict probabilities\n",
    "    clf_rf = RandomForestClassifier(n_estimators=100, random_state=42).fit(X_train, y_train)\n",
    "    rf_probs_train = clf_rf.predict_proba(X_train)[:, 1]\n",
    "    rf_probs_test = clf_rf.predict_proba(X_test)[:, 1]\n",
    "\n",
    "    # Augment training and test sets with RF probabilities\n",
    "    X_train_aug = np.hstack((X_train.toarray(), rf_probs_train.reshape(-1, 1)))\n",
    "    X_test_aug = np.hstack((X_test.toarray(), rf_probs_test.reshape(-1, 1)))\n",
    "\n",
    "    # Train SVM on augmented training set and predict\n",
    "    clf_svm = SVC(kernel='linear', C=1, probability=True, random_state=42).fit(X_train_aug, y_train)\n",
    "    svm_preds = clf_svm.predict(X_test_aug)\n",
    "\n",
    "    # Calculate metrics\n",
    "    accuracies.append(accuracy_score(y_test, svm_preds))\n",
    "    f1_scores.append(f1_score(y_test, svm_preds))\n",
    "    roc_auc_scores.append(roc_auc_score(y_test, clf_svm.decision_function(X_test_aug)))\n",
    "    \n",
    "    print(accuracies, f1_scores, roc_auc_scores)\n",
    "\n",
    "# Print average metrics\n",
    "print(f\"Average Accuracy: {np.mean(accuracies):.4f}\")\n",
    "print(f\"Average F1 Score: {np.mean(f1_scores):.4f}\")\n",
    "print(f\"Average ROC AUC: {np.mean(roc_auc_scores):.4f}\")\n",
    "\n"
   ]
  },
  {
   "cell_type": "code",
   "execution_count": null,
   "id": "fbbc9aae",
   "metadata": {},
   "outputs": [],
   "source": [
    "# Train models on the entire dataset for final prediction\n",
    "clf_rf_final = RandomForestClassifier(n_estimators=100, random_state=42).fit(X, y)\n",
    "rf_probs = clf_rf_final.predict_proba(X)[:, 1]\n",
    "\n",
    "# Augment the entire dataset with RF probabilities for SVM training\n",
    "X_aug = np.hstack((X.toarray(), rf_probs.reshape(-1, 1)))\n",
    "clf_svm_final = SVC(kernel='linear', C=1, probability=True, random_state=42).fit(X_aug, y)\n",
    "\n"
   ]
  },
  {
   "cell_type": "code",
   "execution_count": null,
   "id": "fdede16a",
   "metadata": {},
   "outputs": [],
   "source": [
    "# Load, preprocess, and predict on test data\n",
    "df_test = load_and_preprocess('test_data.json')\n",
    "X_test = vectorizer.transform(df_test['text'])\n",
    "rf_probs_test = clf_rf_final.predict_proba(X_test)[:, 1]\n",
    "X_test_aug = np.hstack((X_test.toarray(), rf_probs_test.reshape(-1, 1)))\n",
    "\n",
    "# Final predictions\n",
    "test_predictions = clf_svm_final.predict(X_test_aug)\n",
    "\n",
    "# Save predictions to CSV\n",
    "output_df = pd.DataFrame({'id': df_test.index, 'class': test_predictions})\n",
    "output_csv_path = 'final_augmented_predictions.csv'\n",
    "output_df.to_csv(output_csv_path, index=False)\n",
    "\n",
    "print(f\"Final augmented predictions saved to {output_csv_path}\")"
   ]
  }
 ],
 "metadata": {
  "kernelspec": {
   "display_name": "Python 3 (ipykernel)",
   "language": "python",
   "name": "python3"
  },
  "language_info": {
   "codemirror_mode": {
    "name": "ipython",
    "version": 3
   },
   "file_extension": ".py",
   "mimetype": "text/x-python",
   "name": "python",
   "nbconvert_exporter": "python",
   "pygments_lexer": "ipython3",
   "version": "3.11.4"
  }
 },
 "nbformat": 4,
 "nbformat_minor": 5
}
