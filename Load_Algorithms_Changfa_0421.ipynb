{
 "cells": [
  {
   "cell_type": "code",
   "execution_count": 1,
   "id": "f5e63ac0",
   "metadata": {},
   "outputs": [],
   "source": [
    "import joblib\n",
    "import numpy as np\n",
    "import pandas as pd\n",
    "from collections import Counter\n",
    "from imblearn.over_sampling import SMOTE\n",
    "from imblearn.under_sampling import RandomUnderSampler\n",
    "from joblib import dump, load\n",
    "from scipy.sparse import hstack\n",
    "from sklearn.ensemble import StackingClassifier, RandomForestClassifier, GradientBoostingClassifier, VotingClassifier\n",
    "from sklearn.feature_extraction.text import CountVectorizer, TfidfVectorizer\n",
    "from sklearn.linear_model import LogisticRegression\n",
    "from sklearn.metrics import balanced_accuracy_score, classification_report, accuracy_score\n",
    "from sklearn.model_selection import train_test_split, GridSearchCV, cross_val_score\n",
    "from sklearn.naive_bayes import MultinomialNB\n",
    "from sklearn.neighbors import KNeighborsClassifier\n",
    "from sklearn.pipeline import make_pipeline\n",
    "from sklearn.preprocessing import MinMaxScaler, StandardScaler\n",
    "from sklearn.svm import SVC\n",
    "from sklearn.tree import DecisionTreeClassifier\n",
    "from sklearn.utils import resample\n",
    "\n"
   ]
  },
  {
   "cell_type": "code",
   "execution_count": 2,
   "id": "8ff028be",
   "metadata": {},
   "outputs": [],
   "source": [
    "def load_data(file_path):\n",
    "    return pd.read_json(file_path, lines=True)"
   ]
  },
  {
   "cell_type": "code",
   "execution_count": 3,
   "id": "561da519",
   "metadata": {},
   "outputs": [],
   "source": [
    "def add_features(df):\n",
    "    df['length_of_sentence'] = df['text'].apply(len)\n",
    "    df['lexicon_density'] = df['text'].apply(lambda x: len(set(x)) / len(x) if len(x) > 0 else 0)\n",
    "    df['type_token_ratio'] = df['text'].apply(lambda tokens: len(set(tokens)) / len(tokens) if len(tokens) > 0 else 0)\n",
    "    word_counts = Counter()\n",
    "    df['text'].apply(word_counts.update)\n",
    "    rare_words = {word for word, freq in word_counts.items() if freq <= 5}\n",
    "    df['rare_word_count'] = df['text'].apply(lambda tokens: sum(1 for token in tokens if token in rare_words))\n",
    "    return df, rare_words\n"
   ]
  },
  {
   "cell_type": "code",
   "execution_count": 4,
   "id": "df967555",
   "metadata": {},
   "outputs": [],
   "source": [
    "def initialize_and_save_tools(df):\n",
    "    # Assuming 'text_str' for vectorization purposes only, not for scaling\n",
    "    df['text_str'] = df['text'].apply(lambda tokens: ' '.join(map(str, tokens)))\n",
    "\n",
    "    # Initialize and fit vectorizers\n",
    "    count_vectorizer = CountVectorizer(max_features=5000)\n",
    "    tfidf_vectorizer = TfidfVectorizer(max_features=5000)\n",
    "    count_vectorizer.fit(df['text_str'])\n",
    "    tfidf_vectorizer.fit(df['text_str'])\n",
    "\n",
    "    # Initialize and fit scaler\n",
    "    scaler = MinMaxScaler()\n",
    "    # Ensure the feature set here matches the one used in transformations\n",
    "    scaler.fit(df[['length_of_sentence', 'lexicon_density', 'rare_word_count', 'type_token_ratio']])\n",
    "\n",
    "    return scaler, count_vectorizer, tfidf_vectorizer"
   ]
  },
  {
   "cell_type": "code",
   "execution_count": 5,
   "id": "11e2ad7a",
   "metadata": {},
   "outputs": [],
   "source": [
    "def preprocess_and_feature_engineer(df, scaler, count_vectorizer, tfidf_vectorizer):\n",
    "    # Ensure 'id' is not included in any feature processing\n",
    "    if 'id' in df.columns:\n",
    "        df_features = df.drop(columns=['id'])\n",
    "    else:\n",
    "        df_features = df.copy()  # Work on a copy to avoid modifying the original DataFrame\n",
    "    \n",
    "    # Prepare text strings for vectorization\n",
    "    df_features['text_str'] = df_features['text'].apply(lambda tokens: ' '.join(map(str, tokens)))\n",
    "    \n",
    "    # Vectorize text\n",
    "    count_features = count_vectorizer.transform(df_features['text_str']).toarray()\n",
    "    tfidf_features = tfidf_vectorizer.transform(df_features['text_str']).toarray()\n",
    "    \n",
    "    # Ensure the scaler is applied to the correct columns\n",
    "    additional_features = scaler.transform(df_features[['length_of_sentence', 'lexicon_density', 'rare_word_count', 'type_token_ratio']])\n",
    "    \n",
    "    # Combine all features into a single array\n",
    "    return np.hstack([count_features, tfidf_features, additional_features])\n"
   ]
  },
  {
   "cell_type": "code",
   "execution_count": 6,
   "id": "17d51da8",
   "metadata": {},
   "outputs": [],
   "source": [
    "def add_features_specific(df, rare_words):\n",
    "    df['length_of_sentence'] = df['text'].apply(len)\n",
    "    df['type_token_ratio'] = df['text'].apply(lambda tokens: len(set(tokens)) / len(tokens) if len(tokens) > 0 else 0)\n",
    "    df['lexicon_density'] = df['type_token_ratio']  # or any specific definition\n",
    "    df['rare_word_count'] = df['text'].apply(lambda tokens: sum(1 for token in tokens if token in rare_words))\n",
    "    return df"
   ]
  },
  {
   "cell_type": "code",
   "execution_count": 8,
   "id": "30c266fc",
   "metadata": {},
   "outputs": [],
   "source": [
    "# Load datasets\n",
    "df_domain1 = load_data('domain1_train_data.json')\n",
    "df_domain2 = load_data('domain2_train_data.json')\n",
    "df_test = load_data('test_data.json')\n",
    "# Combine and initialize tools on training data only\n",
    "df_train = pd.concat([df_domain1, df_domain2], ignore_index=True)\n",
    "df_train, rare_words = add_features(df_train)\n",
    "scaler, count_vectorizer, tfidf_vectorizer = initialize_and_save_tools(df_train)\n",
    "# Add features to each dataset separately\n",
    "df_domain1 = add_features_specific(df_domain1, rare_words)\n",
    "df_domain2 = add_features_specific(df_domain2, rare_words)\n",
    "df_test = add_features_specific(df_test, rare_words)\n",
    "# Preprocess each dataset\n",
    "features_domain1 = preprocess_and_feature_engineer(df_domain1, scaler, count_vectorizer, tfidf_vectorizer)\n",
    "features_domain2 = preprocess_and_feature_engineer(df_domain2, scaler, count_vectorizer, tfidf_vectorizer)\n",
    "features_test = preprocess_and_feature_engineer(df_test, scaler, count_vectorizer, tfidf_vectorizer)"
   ]
  },
  {
   "cell_type": "code",
   "execution_count": 9,
   "id": "4eaf4de7",
   "metadata": {},
   "outputs": [],
   "source": [
    "df_test = add_features_specific(df_test, rare_words)\n",
    "features_test = preprocess_and_feature_engineer(df_test, scaler, count_vectorizer, tfidf_vectorizer)\n"
   ]
  },
  {
   "cell_type": "code",
   "execution_count": 12,
   "id": "7fca3cae",
   "metadata": {},
   "outputs": [],
   "source": [
    "# Loading the model\n",
    "stacking_cls = load('stacking_classifier.pkl')\n",
    "stacking_cls2 = load('stacking_classifier2.pkl')\n",
    "# Assuming features_test is already prepared\n",
    "test_predictions = stacking_cls.predict(features_test)\n",
    "test_predictions2 = stacking_cls2.predict(features_test)\n",
    "# pd.DataFrame(test_predictions, columns=['class']).to_csv('test_predictions.csv', index=False)\n",
    "pd.DataFrame(test_predictions2, columns=['class2']).to_csv('test_predictions.csv', index=False)\n"
   ]
  },
  {
   "cell_type": "code",
   "execution_count": null,
   "id": "e49890b5",
   "metadata": {},
   "outputs": [],
   "source": []
  }
 ],
 "metadata": {
  "kernelspec": {
   "display_name": "Python 3 (ipykernel)",
   "language": "python",
   "name": "python3"
  },
  "language_info": {
   "codemirror_mode": {
    "name": "ipython",
    "version": 3
   },
   "file_extension": ".py",
   "mimetype": "text/x-python",
   "name": "python",
   "nbconvert_exporter": "python",
   "pygments_lexer": "ipython3",
   "version": "3.8.17"
  }
 },
 "nbformat": 4,
 "nbformat_minor": 5
}
