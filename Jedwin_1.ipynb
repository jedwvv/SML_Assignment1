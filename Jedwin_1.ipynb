{
 "cells": [
  {
   "cell_type": "markdown",
   "metadata": {},
   "source": [
    "### Tackle domain 1"
   ]
  },
  {
   "cell_type": "code",
   "execution_count": 6,
   "metadata": {},
   "outputs": [],
   "source": [
    "import numpy as np"
   ]
  },
  {
   "cell_type": "code",
   "execution_count": 7,
   "metadata": {},
   "outputs": [],
   "source": [
    "from scipy import sparse\n",
    "temp_sparse_ = sparse.load_npz( \"domain1_X_y_csr.npz\" )\n",
    "temp_loaded = temp_sparse_.toarray()\n",
    "n_samples, n_features = temp_loaded.shape\n",
    "n_features -= 1 #Since the last column is actually the label\n",
    "X = temp_loaded[:,:n_features]\n",
    "y = temp_loaded[:,n_features]\n",
    "del temp_loaded, temp_sparse_"
   ]
  },
  {
   "cell_type": "code",
   "execution_count": 8,
   "metadata": {},
   "outputs": [
    {
     "data": {
      "text/plain": [
       "(5000, 6177)"
      ]
     },
     "execution_count": 8,
     "metadata": {},
     "output_type": "execute_result"
    }
   ],
   "source": [
    "X.shape"
   ]
  },
  {
   "cell_type": "code",
   "execution_count": 9,
   "metadata": {},
   "outputs": [],
   "source": [
    "from sklearn.feature_selection import SelectPercentile, f_classif, chi2\n",
    "from sklearn.linear_model import LogisticRegression"
   ]
  },
  {
   "cell_type": "code",
   "execution_count": 55,
   "metadata": {
    "collapsed": true,
    "jupyter": {
     "outputs_hidden": true
    },
    "tags": []
   },
   "outputs": [
    {
     "name": "stderr",
     "output_type": "stream",
     "text": [
      "/home/jvillanueva/.local/lib/python3.10/site-packages/sklearn/feature_selection/_univariate_selection.py:112: UserWarning: Features [   0    1    2    3    4    5    6    7    8    9   10   11   12   13\n",
      "   14   15   16   17   18   19   20   22  131  166  211  212  213  214\n",
      "  242  248  252  254  261  262  263  285  298  318  344  383  387  437\n",
      "  450  460  463  469  482  483  500  518  538  539  540  541  542  544\n",
      "  552  555  556  557  562  589  605  606  619  626  634  647  650  656\n",
      "  661  667  668  682  725  726  729  734  790  843  844  860  880  887\n",
      "  912  918  934  947  962  985  986  987  991 1003 1027 1050 1071 1108\n",
      " 1109 1135 1136 1139 1140 1148 1149 1173 1174 1175 1187 1194 1199 1216\n",
      " 1243 1300 1457 1559 1592 1635 1644 1688 1729 1749 1750 1803 1831 1847\n",
      " 1848 1894 1897 1953 1959 1964 1973 2001 2031 2038 2042 2043 2063 2070\n",
      " 2082 2244 2262 2267 2316 2375 2376 2427 2430 2451 2471 2478 2512 2524\n",
      " 2539 2565 2718 2748 2761 2771 2817 2818 2828 2833 2847 2972 2985 3065\n",
      " 3131 3132 3139 3189 3190 3296 3303 3307 3308 3322 3466 3507 3569 3570\n",
      " 3571 3572 3603 3607 3658 3661 3662 3663 3664 3665 3671 3709 3775 3800\n",
      " 3877 3888 3899 3904 3962 4046 4066 4090 4097 4265 4266 4335 4354 4441\n",
      " 4445 4453 4455 4495 4496 4503 4505 4609 4631 4642 4643 4657 4667 4668\n",
      " 4669 4737 4754 4761 4775 4794 4796 4801 4804 4836 4871 4903 4912 5018\n",
      " 5025 5034 5049 5063 5117 5118 5119 5120 5121 5122 5123 5139 5201 5251\n",
      " 5255 5256 5257 5258 5263 5289 5301 5302 5303 5304 5323 5325 5350 5382\n",
      " 5395 5447 5448 5450 5452 5455 5532 5553 5584 5598 5599 5606 5609 5611\n",
      " 5614 5627 5629 5631 5662 5664 5671 5683 5717 5740 5752 5764 5771 5797\n",
      " 5830 5833 5856 5858 5867 5878 5881 5883 5886 5887 5893 5897 5961 5981\n",
      " 5988 6009 6012 6029 6110 6133 6137 6143 6161 6162 6163 6165] are constant.\n",
      "  warnings.warn(\"Features %s are constant.\" % constant_features_idx, UserWarning)\n",
      "/home/jvillanueva/.local/lib/python3.10/site-packages/sklearn/feature_selection/_univariate_selection.py:113: RuntimeWarning: invalid value encountered in true_divide\n",
      "  f = msb / msw\n"
     ]
    }
   ],
   "source": [
    "selector_percentile = SelectPercentile( f_classif, percentile = 80 )\n",
    "X_new = selector_percentile.fit_transform(X, y)"
   ]
  },
  {
   "cell_type": "code",
   "execution_count": 56,
   "metadata": {},
   "outputs": [],
   "source": [
    "from sklearn.linear_model import LogisticRegressionCV, LogisticRegression"
   ]
  },
  {
   "cell_type": "code",
   "execution_count": 57,
   "metadata": {},
   "outputs": [],
   "source": [
    "%%capture output1\n",
    "\n",
    "# clf = LogisticRegressionCV(cv=5, random_state=0, solver='newton-cholesky', n_jobs=-1, class_weight=\"balanced\")\n",
    "# clf.fit(X_resampled, y_resampled)\n",
    "\n",
    "clf = LogisticRegressionCV(cv=5, random_state=0, solver='newton-cholesky', n_jobs=2)\n",
    "clf.fit(X_new, y)\n",
    "clf.score(X_new, y)"
   ]
  },
  {
   "cell_type": "code",
   "execution_count": 58,
   "metadata": {},
   "outputs": [],
   "source": [
    "import pickle as pkl"
   ]
  },
  {
   "cell_type": "code",
   "execution_count": 59,
   "metadata": {},
   "outputs": [],
   "source": [
    "with open(\"log_res_domain1.mdl\", \"wb\") as f:\n",
    "    pkl.dump( [clf,selector_percentile] , f )"
   ]
  },
  {
   "cell_type": "code",
   "execution_count": null,
   "metadata": {},
   "outputs": [],
   "source": []
  }
 ],
 "metadata": {
  "kernelspec": {
   "display_name": "Python 3 (ipykernel)",
   "language": "python",
   "name": "python3"
  },
  "language_info": {
   "codemirror_mode": {
    "name": "ipython",
    "version": 3
   },
   "file_extension": ".py",
   "mimetype": "text/x-python",
   "name": "python",
   "nbconvert_exporter": "python",
   "pygments_lexer": "ipython3",
   "version": "3.10.4"
  }
 },
 "nbformat": 4,
 "nbformat_minor": 4
}
